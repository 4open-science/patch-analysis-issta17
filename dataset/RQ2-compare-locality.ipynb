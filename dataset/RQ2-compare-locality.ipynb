{
 "cells": [
  {
   "cell_type": "code",
   "execution_count": 1,
   "metadata": {
    "collapsed": false
   },
   "outputs": [
    {
     "name": "stdout",
     "output_type": "stream",
     "text": [
      "Tue Nov 29 13:48:13 2016\n",
      "4050\n",
      "729\n",
      "5758\n",
      "Tue Nov 29 13:48:16 2016\n",
      "Tue Nov 29 13:52:45 2016\n",
      "Tue Nov 29 13:53:21 2016\n",
      "Tue Nov 29 13:58:30 2016\n"
     ]
    }
   ],
   "source": [
    "import subprocess, os\n",
    "import re\n",
    "import pandas as pd\n",
    "import ijson\n",
    "import time\n",
    "\n",
    "fileType1= 't1.json'\n",
    "fileType2= 't2.json'\n",
    "fileType3= 't3.json'\n",
    "LINUX='/home/anil-mint-desktop/linux-stable'\n",
    "HOME='/home/anil-mint-desktop/patchstudy/test/datasets/ds'\n",
    "\n",
    "from operator import itemgetter\n",
    "from itertools import groupby\n",
    "\n",
    "def calculatePatchSize(minusIndex, plusIndex):\n",
    "    data = sorted(minusIndex + plusIndex)\n",
    "    total = 0\n",
    "    for k, g in groupby(enumerate(data), lambda (i,x):i-x):\n",
    "        tmp =  map(itemgetter(1), g)\n",
    "        #print(tmp)  \n",
    "        count = 0\n",
    "        for e in tmp:\n",
    "            if e in minusIndex:\n",
    "                count -= 1\n",
    "            if e in plusIndex:\n",
    "                count += 1\n",
    "\n",
    "        if(count == 0):\n",
    "            count = len(tmp) /2\n",
    "        if count < 0:\n",
    "            count *= -1\n",
    "        if( len(tmp) != count):\n",
    "            count = (len(tmp) + count) /2\n",
    "        total += count \n",
    "        #print(count)\n",
    "\n",
    "    return (total)\n",
    "\n",
    "def controlReverts(sha):\n",
    "\n",
    "    os.chdir(LINUX)\n",
    "    cmd ='git diff -U0 '+sha+'^..'+sha\n",
    "  \n",
    "   \n",
    "    #print(cmd)\n",
    "    tmp = os.popen(cmd).readlines()\n",
    "    \n",
    "    patternHunk = re.compile(r'^@@')\n",
    "    patternMinusDiscard = re.compile(r'^\\-{3}')\n",
    "    patternMinus = re.compile(r'^\\-{1}')\n",
    "    patternPlusDiscard = re.compile(r'^\\+{3}')\n",
    "    patternPlus = re.compile(r'^\\+{1}')\n",
    "    plusIndex = list()\n",
    "    minusIndex = list()\n",
    "\n",
    "    plus = 0\n",
    "    minus = 0\n",
    "    hunks = 0\n",
    "    fileN = 0\n",
    "\n",
    "    for l in range(len(tmp)):\n",
    "        #print(l,tmp[l])\n",
    "        match = (re.search(patternHunk,tmp[l]))\n",
    "        if match:\n",
    "            hunks += 1\n",
    "\n",
    "        match = (re.search(patternPlusDiscard,tmp[l]))\n",
    "        if not match:\n",
    "            match = (re.search(patternPlus,tmp[l]))\n",
    "            if match:\n",
    "                plus += 1\n",
    "                plusIndex.append(l)\n",
    "\n",
    "        match = (re.search(patternMinusDiscard,tmp[l]))\n",
    "        if not match:\n",
    "            match = (re.search(patternMinus,tmp[l]))\n",
    "            if match:\n",
    "                minus +=1\n",
    "                minusIndex.append(l)\n",
    "        else:\n",
    "            fileN += 1\n",
    "            \n",
    "    #print(len(plus))\n",
    "    #print(len(minus))\n",
    "    #print(len(hunks))\n",
    "    \n",
    "    #print(minusIndex)\n",
    "    #print(plusIndex)\n",
    "    return tmp, plusIndex ,minusIndex, hunks, fileN\n",
    "\n",
    "def datasetReader(filename):\n",
    "    with open(filename, 'r') as f:\n",
    "        objects = ijson.items(f,'item' )\n",
    "        rows = list(objects)\n",
    "    #print(rows[0])\n",
    "    return rows\n",
    "\n",
    "def prepareDataFrame(ds ):\n",
    "    commits = pd.DataFrame.from_dict(ds)\n",
    "    df = commits[\"commit\"].values\n",
    "    return df\n",
    "\n",
    "FOLDERT1 = '/home/anil-mint-desktop/patchstudy/test/datasets/ds/t/t1'\n",
    "FOLDERT2 = '/home/anil-mint-desktop/patchstudy/test/datasets/ds/t/t2'\n",
    "FOLDERT3 = '/home/anil-mint-desktop/patchstudy/test/datasets/ds/t/t3'\n",
    "def write2File(sha,plusIndex, minusIndex, t ,folder):\n",
    "    os.chdir(folder )\n",
    "    s = ''\n",
    "    for i in plusIndex:\n",
    "        s += (t[i].split('+')[1])\n",
    "    s += '\\n'\n",
    "    for i in minusIndex:\n",
    "        s += (t[i].split('-')[1])\n",
    "    with open(sha+'.c', 'w') as text_file:\n",
    "        text_file.write(s)\n",
    "\n",
    "def saveAll2Files(): \n",
    "    \n",
    "    os.chdir(HOME)\n",
    "    ds1 = datasetReader(fileType1)\n",
    "    df1 = prepareDataFrame(ds1)\n",
    "    print(len(df1))\n",
    "    ds2 = datasetReader(fileType2)\n",
    "    df2 = prepareDataFrame(ds2)\n",
    "    print(len(df2))\n",
    "    ds3 = datasetReader(fileType3)\n",
    "    df3 = prepareDataFrame(ds3)\n",
    "    print(len(df3))\n",
    "    \n",
    "    shas1 = dict()\n",
    "    shas2 = dict()\n",
    "    shas3 = dict()\n",
    "    print(time.ctime(time.time()))\n",
    "    for sha in df1:\n",
    "        #print(sha)\n",
    "        t, plusIndex ,minusIndex, hunks ,fileN = controlReverts(sha)\n",
    "        patchSize = calculatePatchSize(minusIndex, plusIndex)\n",
    "        shas1[sha] = [hunks, patchSize,fileN]\n",
    "        #write2File(sha,plusIndex,minusIndex,t, FOLDERT1)'''\n",
    "    print(time.ctime(time.time()))\n",
    "    for sha in df2:\n",
    "        #print(sha)\n",
    "        t, plusIndex ,minusIndex, hunks, fileN = controlReverts(sha)\n",
    "        patchSize = calculatePatchSize(minusIndex, plusIndex)\n",
    "        shas2[sha] = [hunks, patchSize,fileN]\n",
    "        #write2File(sha,plusIndex,minusIndex,t, FOLDERT2)\n",
    "    print(time.ctime(time.time()))\n",
    "    for sha in df3:\n",
    "        #print(sha)\n",
    "        t, plusIndex ,minusIndex, hunks, fileN = controlReverts(sha)\n",
    "        patchSize = calculatePatchSize(minusIndex, plusIndex)\n",
    "        shas3[sha] = [hunks, patchSize,fileN]\n",
    "        #write2File(sha,plusIndex,minusIndex,t, FOLDERT3)'''\n",
    "    return shas1, shas2, shas3\n",
    "        \n",
    "def countMethods(typeSha):\n",
    "    pattern = re.compile(r'\\b[0-9a-f]{5,40}\\b')\n",
    "    \n",
    "    tShas = dict()\n",
    "    for i in typeSha:\n",
    "        #print(i)\n",
    "        match = (re.search(pattern,i))\n",
    "        if match:\n",
    "            k= (match.group(0))\n",
    "            if tShas.has_key(k):\n",
    "                tShas[k] +=1\n",
    "            else:\n",
    "                tShas[k] = 1\n",
    "    return tShas\n",
    "\n",
    "def counterForPlot(tShas):\n",
    "    l = list()\n",
    "    for i in tShas.itervalues():\n",
    "        l.append(i)\n",
    "    #print(l)\n",
    "    s = set(l)\n",
    "    tDict = dict()\n",
    "    #print(s)\n",
    "    for i in s:        \n",
    "        tDict[i] =(l.count(i))\n",
    "    aDict = dict() \n",
    "    aDict['2+'] = 0\n",
    "    for k,v in tDict.iteritems():\n",
    "        if k == 1 or k == 2:\n",
    "            aDict[k] = v\n",
    "        else:\n",
    "            aDict['2+'] += v\n",
    "    return aDict\n",
    "\n",
    "def calculatePercent(tDict, leng):\n",
    "    \n",
    "    total = sum(tDict.itervalues(), 0.0)\n",
    "    tDict[0] = leng - total\n",
    "    print(tDict[0])\n",
    "    newy1 = {k: (v*100) / leng for k, v in tDict.iteritems()}\n",
    "\n",
    "    #print(total)\n",
    "    print(newy1)\n",
    "    return newy1\n",
    "\n",
    "    \n",
    "        \n",
    "if __name__ == '__main__': \n",
    "    print(time.ctime(time.time()))\n",
    "    \n",
    "    a,b,c = saveAll2Files()\n",
    "    \n",
    "    print(time.ctime(time.time()))\n",
    "    \n",
    "    '''os.chdir(FOLDERT1 )\n",
    "    \n",
    "    cmd ='ctags -x --c-types=f *.*' \n",
    "    \n",
    "    print(cmd)\n",
    "    os.chdir(FOLDERT1 )\n",
    "    tmp1 = os.popen(cmd).readlines()\n",
    "    \n",
    "    t1Shas = countMethods(tmp1)\n",
    "    \n",
    "    #print(t1Shas)\n",
    "    \n",
    "    print(len(tmp))\n",
    "    \n",
    "    os.chdir(FOLDERT2 )\n",
    "    tmp2 = os.popen(cmd).readlines()\n",
    "    \n",
    "    t2Shas = countMethods(tmp2)\n",
    "    \n",
    "    print(t2Shas)\n",
    "    print(len(tmp))\n",
    "    \n",
    "    os.chdir(FOLDERT3 )\n",
    "    tmp3 = os.popen(cmd).readlines()\n",
    "    \n",
    "    t3Shas = countMethods(tmp3)\n",
    "    \n",
    "    #print(t3Shas)\n",
    "    \n",
    "    print(len(tmp))\n",
    "    \n",
    "    t1Dict = counterForPlot(t1Shas)\n",
    "    t2Dict = counterForPlot(t2Shas)\n",
    "    t3Dict = counterForPlot(t3Shas)\n",
    "    \n",
    "    print(t1Dict)\n",
    "    print(t2Dict)\n",
    "    print(t3Dict)\n",
    "    calculatePercent(t1Dict,4050)\n",
    "    calculatePercent(t2Dict,729)\n",
    "    calculatePercent(t3Dict,5758)'''"
   ]
  },
  {
   "cell_type": "code",
   "execution_count": 11,
   "metadata": {
    "collapsed": false
   },
   "outputs": [],
   "source": [
    "import csv\n",
    "import os\n",
    "\n",
    "def saveDict2File(aDict, filename):\n",
    "    w = csv.writer(open(filename, \"w\"))\n",
    "    for key, val in aDict.items():\n",
    "        w.writerow([key, val])\n",
    "\n",
    "def readFile2Dict(filename):\n",
    "    dict = {}\n",
    "    for key, val in csv.reader(open(filename)):\n",
    "        dict[key] = eval(val)\n",
    "    return dict\n",
    "\n",
    "os.chdir(HOME)\n",
    "saveDict2File(a,'RQ2-compare-locality-a')\n",
    "saveDict2File(b,'RQ2-compare-locality-b')\n",
    "saveDict2File(c,'RQ2-compare-locality-c')\n",
    "\n"
   ]
  },
  {
   "cell_type": "code",
   "execution_count": 15,
   "metadata": {
    "collapsed": true
   },
   "outputs": [],
   "source": []
  },
  {
   "cell_type": "code",
   "execution_count": null,
   "metadata": {
    "collapsed": true
   },
   "outputs": [],
   "source": []
  },
  {
   "cell_type": "code",
   "execution_count": null,
   "metadata": {
    "collapsed": true
   },
   "outputs": [],
   "source": []
  },
  {
   "cell_type": "code",
   "execution_count": null,
   "metadata": {
    "collapsed": true
   },
   "outputs": [],
   "source": []
  },
  {
   "cell_type": "code",
   "execution_count": null,
   "metadata": {
    "collapsed": true
   },
   "outputs": [],
   "source": []
  },
  {
   "cell_type": "code",
   "execution_count": 1,
   "metadata": {
    "collapsed": false
   },
   "outputs": [
    {
     "name": "stdout",
     "output_type": "stream",
     "text": [
      "                 Files      1      2     3     4    4+\n",
      "0    Automated Patches  81.73   7.56  3.19  1.90  5.63\n",
      "1  Semi-manual Patches  86.28   5.49  4.25  0.69  3.29\n",
      "2       Manual Patches  75.46  11.24  6.48  2.73  4.10\n",
      "                 Hunks      1      2      3     4     4+\n",
      "0    Automated Patches  40.79  25.80   7.93  7.26  18.22\n",
      "1  Semi-manual Patches  35.80  19.07  12.21  6.04  26.89\n",
      "2       Manual Patches  31.80  18.93  10.73  8.02  30.51\n",
      "             PatchSize      1      2      3      4     4+\n",
      "0    Automated Patches  23.14  19.41  12.30  10.22  34.94\n",
      "1  Semi-manual Patches  22.63  15.36  11.93   6.45  43.62\n",
      "2       Manual Patches  12.73   7.76   6.23   6.34  66.93\n"
     ]
    },
    {
     "data": {
      "text/plain": [
       "<matplotlib.figure.Figure at 0x7f8e0daa91d0>"
      ]
     },
     "metadata": {},
     "output_type": "display_data"
    },
    {
     "data": {
      "image/png": "[encoded data removed]",
      "text/plain": [
       "<matplotlib.figure.Figure at 0x7f8e0daa9b90>"
      ]
     },
     "metadata": {},
     "output_type": "display_data"
    },
    {
     "data": {
      "text/plain": [
       "<matplotlib.figure.Figure at 0x7f8e0b030810>"
      ]
     },
     "metadata": {},
     "output_type": "display_data"
    },
    {
     "data": {
      "image/png": "[encoded data removed]",
      "text/plain": [
       "<matplotlib.figure.Figure at 0x7f8e0aae7a50>"
      ]
     },
     "metadata": {},
     "output_type": "display_data"
    },
    {
     "data": {
      "text/plain": [
       "<matplotlib.figure.Figure at 0x7f8e0a8fd150>"
      ]
     },
     "metadata": {},
     "output_type": "display_data"
    },
    {
     "data": {
      "image/png": "[encoded data removed]",
      "text/plain": [
       "<matplotlib.figure.Figure at 0x7f8e0a917a90>"
      ]
     },
     "metadata": {},
     "output_type": "display_data"
    }
   ],
   "source": [
    "import pandas as pd\n",
    "import matplotlib.pyplot as plt\n",
    "import numpy as np\n",
    "import os\n",
    "import csv\n",
    "# name = 'file'\n",
    "def readFile2Dict(filename):\n",
    "    dict = {}\n",
    "    for key, val in csv.reader(open(filename)):\n",
    "        dict[key] = eval(val)\n",
    "    return dict\n",
    "def plotDist(name , x1, x2, x3 ):\n",
    "\n",
    "    raw_data = {name: ['Automated Patches','Semi-manual Patches', 'Manual Patches'],\n",
    "            '1': [x1[1], x2[1], x3[1]],\n",
    "            '2': [x1[2], x2[2], x3[2]],\n",
    "            '3': [x1[3], x2[3], x3[3]], \n",
    "            '4': [x1[4], x2[4], x3[4]], \n",
    "            '4+':[x1['4+'], x2['4+'], x3['4+']]  }\n",
    "    df = pd.DataFrame(raw_data, columns = [name, '1', '2', '3', '4','4+'])\n",
    "    print(df)\n",
    "    plt.figure()\n",
    "    # Create the general blog and the \"subplots\" i.e. the bars\n",
    "    #f, (ax1 ,ax2) = plt.subplots(1,2, figsize=(10,5), sharey=True)\n",
    "    \n",
    "    #f, (ax1, ax2, ax3) = plt.subplots(3, sharex=True, sharey=True)\n",
    "    f, ax1  = plt.subplots(1, figsize=(10,5))\n",
    "    # Set the bar width\n",
    "    bar_width = 0.15\n",
    "\n",
    "    # positions of the left bar-boundaries\n",
    "    bar_l = [i+1 for i in range(len(df['1']))] \n",
    "    \n",
    "\n",
    "    '''print(bar_l)\n",
    "    bar_l = [1, 1.2, 1.4]\n",
    "    bar_2 = [2, 2.2, 2.4]\n",
    "    bar_3 = [3, 3.2, 3.4]'''\n",
    "\n",
    "    # positions of the x-axis ticks (center of the bars as bar labels)\n",
    "    tick_pos = [i+(bar_width/2) for i in bar_l] \n",
    "    \n",
    "    \n",
    "    \n",
    "    '''tick_pos = [1.025, 1.2249, 1.4249,2.025, 2.2249, 2.4249,3.025, 3.2249, 3.4249]'''\n",
    "\n",
    "    \n",
    "    # Create a bar plot, in position bar_1\n",
    "    ax1.bar(bar_l, \n",
    "            # using the pre_score data\n",
    "            df['1'], \n",
    "            # set the width\n",
    "            width=bar_width,\n",
    "            # with the label pre score\n",
    "            label='1', \n",
    "            # with alpha 0.5\n",
    "            alpha=0.5, \n",
    "            # with color\n",
    "            color='#F4561D')\n",
    "\n",
    "    # Create a bar plot, in position bar_1\n",
    "    ax1.bar(bar_l, \n",
    "            # using the mid_score data\n",
    "            df['2'], \n",
    "            # set the width\n",
    "            width=bar_width,\n",
    "            # with pre_score on the bottom\n",
    "            bottom=df['1'], \n",
    "            # with the label mid score\n",
    "            label='2', \n",
    "            # with alpha 0.5\n",
    "            alpha=0.5, \n",
    "            # with color\n",
    "            color='red')\n",
    "\n",
    "    # Create a bar plot, in position bar_1\n",
    "    ax1.bar(bar_l, \n",
    "            # using the post_score data\n",
    "            df['3'], \n",
    "            # set the width\n",
    "            width=bar_width,\n",
    "            # with pre_score and mid_score on the bottom\n",
    "            bottom=[i+j for i,j in zip(df['1'],df['2'])], \n",
    "            # with the label post score\n",
    "            label='3', \n",
    "            # with alpha 0.5\n",
    "            alpha=0.5, \n",
    "            # with color\n",
    "            color='blue')\n",
    "\n",
    "    # Create a bar plot, in position bar_1\n",
    "    ax1.bar(bar_l, \n",
    "            # using the post_score data\n",
    "            df['4'], \n",
    "            # set the width\n",
    "            width=bar_width,\n",
    "            # with pre_score and mid_score on the bottom\n",
    "            bottom=[i+j+k for i,j,k in zip(df['1'],df['2'],df['3'])], \n",
    "            # with the label post score\n",
    "            label='4', \n",
    "            # with alpha 0.5\n",
    "            alpha=0.5, \n",
    "            # with color\n",
    "            color='yellow')\n",
    "    ax1.bar(bar_l, \n",
    "            # using the post_score data\n",
    "            df['4+'], \n",
    "            # set the width\n",
    "            width=bar_width,\n",
    "            # with pre_score and mid_score on the bottom\n",
    "            bottom=[i+j+k+l for i,j,k,l in zip(df['1'],df['2'],df['3'],df['4'])], \n",
    "            # with the label post score\n",
    "            label='4+', \n",
    "            # with alpha 0.5\n",
    "            alpha=0.5, \n",
    "            # with color\n",
    "            color='c')\n",
    "    \n",
    "   \n",
    "    # set the x ticks with names\n",
    "    plt.xticks(tick_pos, df[name], fontsize=20)\n",
    "    plt.yticks([0,20,40,60,80,100], fontsize=20)\n",
    "\n",
    "    # Set the label and legends\n",
    "    ax1.set_ylabel(\"% of total\", fontsize=20)\n",
    "    #ax1.set_xlabel(\"File\\t\\tHunks\")\n",
    "    #ax1.set_title('Distributions of patch sizes in terms of '+ name )\n",
    "\n",
    "    '''for label in ax1.xaxis.get_ticklabels():\n",
    "            label.set_rotation(90)'''\n",
    "    #plt.legend(loc='bes', fontsize=20)\n",
    "    plt.legend(bbox_to_anchor=(0.87, 1), loc=2, borderaxespad=0., fontsize=14)\n",
    "\n",
    "    # Set a buffer around the edge\n",
    "    #plt.xlim([min(tick_pos)-bar_width, max(tick_pos)+bar_width])\n",
    "    #plt.show()\n",
    "    #os.chdir(HOME)\n",
    "    plt.ion()\n",
    "    f = plt.gcf()\n",
    "    f.set_size_inches(10,5, forward=True)\n",
    "    plt.savefig('plots/DistOf'+name+'.pdf',dpi=100)\n",
    "    \n",
    "def calcPercent(shaDict, typ):\n",
    "    l = list()\n",
    "    for i in shaDict.itervalues():\n",
    "        l.append(i[typ])\n",
    "    #print(l)\n",
    "    s = set(l)\n",
    "    tDict = dict()\n",
    "    #print(s)\n",
    "    for i in s:        \n",
    "        tDict[i] =(l.count(i))\n",
    "    aDict = dict() \n",
    "    aDict['4+'] = 0\n",
    "    for k,v in tDict.iteritems():\n",
    "        if k == 0 or k == 1 or k == 2 or k == 3 or k == 4:\n",
    "            aDict[k] = v\n",
    "        else:\n",
    "            aDict['4+'] += v\n",
    "    return (aDict)\n",
    "def percCalc(a):\n",
    "    total = sum(a.itervalues(), 0.0)\n",
    "    a = {k: round((v *100 / total),2) for k, v in a.iteritems()}\n",
    "    \n",
    "    return a\n",
    "\n",
    "#os.chdir(HOME)\n",
    "a = readFile2Dict('RQ2-compare-locality-a')\n",
    "b = readFile2Dict('RQ2-compare-locality-b')\n",
    "c = readFile2Dict('RQ2-compare-locality-c')\n",
    "\n",
    "typeHunk = 0\n",
    "typePatchSize = 1\n",
    "typeFileN = 2\n",
    "fileN1 = calcPercent(a, typeFileN)\n",
    "hunk1 = calcPercent(a, typeHunk)\n",
    "patchS1 = calcPercent(a, typePatchSize)\n",
    "\n",
    "\n",
    "fileN2 = calcPercent(b, typeFileN)\n",
    "hunk2 = calcPercent(b, typeHunk)\n",
    "patchS2 = calcPercent(b, typePatchSize)\n",
    "\n",
    "fileN3 = calcPercent(c, typeFileN)\n",
    "hunk3 = calcPercent(c, typeHunk)\n",
    "patchS3 = calcPercent(c, typePatchSize)\n",
    "\n",
    "x1File = percCalc(fileN1)\n",
    "x2File = percCalc(fileN2)\n",
    "x3File = percCalc(fileN3)\n",
    "\n",
    "plotDist('Files', x1File, x2File, x3File)\n",
    "\n",
    "x1Hunk = percCalc(hunk1)\n",
    "x2Hunk = percCalc(hunk2)\n",
    "x3Hunk = percCalc(hunk3)\n",
    "plotDist('Hunks', x1Hunk, x2Hunk, x3Hunk)\n",
    "\n",
    "x1PS = percCalc(patchS1)\n",
    "x2PS = percCalc(patchS2)\n",
    "x3PS = percCalc(patchS3)\n",
    "plotDist('PatchSize', x1PS, x2PS, x3PS)"
   ]
  },
  {
   "cell_type": "code",
   "execution_count": null,
   "metadata": {
    "collapsed": true
   },
   "outputs": [],
   "source": []
  },
  {
   "cell_type": "code",
   "execution_count": null,
   "metadata": {
    "collapsed": true
   },
   "outputs": [],
   "source": []
  },
  {
   "cell_type": "code",
   "execution_count": null,
   "metadata": {
    "collapsed": true
   },
   "outputs": [],
   "source": []
  },
  {
   "cell_type": "code",
   "execution_count": null,
   "metadata": {
    "collapsed": true
   },
   "outputs": [],
   "source": []
  },
  {
   "cell_type": "code",
   "execution_count": null,
   "metadata": {
    "collapsed": true
   },
   "outputs": [],
   "source": []
  },
  {
   "cell_type": "code",
   "execution_count": null,
   "metadata": {
    "collapsed": true
   },
   "outputs": [],
   "source": []
  },
  {
   "cell_type": "code",
   "execution_count": null,
   "metadata": {
    "collapsed": true
   },
   "outputs": [],
   "source": []
  },
  {
   "cell_type": "code",
   "execution_count": null,
   "metadata": {
    "collapsed": true
   },
   "outputs": [],
   "source": []
  },
  {
   "cell_type": "code",
   "execution_count": null,
   "metadata": {
    "collapsed": true
   },
   "outputs": [],
   "source": []
  },
  {
   "cell_type": "code",
   "execution_count": null,
   "metadata": {
    "collapsed": true
   },
   "outputs": [],
   "source": []
  },
  {
   "cell_type": "code",
   "execution_count": null,
   "metadata": {
    "collapsed": true
   },
   "outputs": [],
   "source": []
  },
  {
   "cell_type": "code",
   "execution_count": null,
   "metadata": {
    "collapsed": true
   },
   "outputs": [],
   "source": []
  },
  {
   "cell_type": "code",
   "execution_count": null,
   "metadata": {
    "collapsed": true
   },
   "outputs": [],
   "source": []
  },
  {
   "cell_type": "code",
   "execution_count": null,
   "metadata": {
    "collapsed": true
   },
   "outputs": [],
   "source": []
  },
  {
   "cell_type": "code",
   "execution_count": null,
   "metadata": {
    "collapsed": true
   },
   "outputs": [],
   "source": []
  },
  {
   "cell_type": "code",
   "execution_count": null,
   "metadata": {
    "collapsed": true
   },
   "outputs": [],
   "source": []
  },
  {
   "cell_type": "code",
   "execution_count": null,
   "metadata": {
    "collapsed": true
   },
   "outputs": [],
   "source": []
  },
  {
   "cell_type": "code",
   "execution_count": null,
   "metadata": {
    "collapsed": true
   },
   "outputs": [],
   "source": []
  },
  {
   "cell_type": "code",
   "execution_count": null,
   "metadata": {
    "collapsed": true
   },
   "outputs": [],
   "source": []
  },
  {
   "cell_type": "code",
   "execution_count": null,
   "metadata": {
    "collapsed": true
   },
   "outputs": [],
   "source": []
  },
  {
   "cell_type": "code",
   "execution_count": null,
   "metadata": {
    "collapsed": true
   },
   "outputs": [],
   "source": []
  },
  {
   "cell_type": "code",
   "execution_count": null,
   "metadata": {
    "collapsed": true
   },
   "outputs": [],
   "source": []
  },
  {
   "cell_type": "code",
   "execution_count": null,
   "metadata": {
    "collapsed": true
   },
   "outputs": [],
   "source": []
  },
  {
   "cell_type": "code",
   "execution_count": null,
   "metadata": {
    "collapsed": true
   },
   "outputs": [],
   "source": []
  },
  {
   "cell_type": "code",
   "execution_count": null,
   "metadata": {
    "collapsed": true
   },
   "outputs": [],
   "source": []
  },
  {
   "cell_type": "code",
   "execution_count": null,
   "metadata": {
    "collapsed": true
   },
   "outputs": [],
   "source": []
  },
  {
   "cell_type": "code",
   "execution_count": null,
   "metadata": {
    "collapsed": true
   },
   "outputs": [],
   "source": []
  },
  {
   "cell_type": "code",
   "execution_count": null,
   "metadata": {
    "collapsed": true
   },
   "outputs": [],
   "source": []
  },
  {
   "cell_type": "code",
   "execution_count": null,
   "metadata": {
    "collapsed": true
   },
   "outputs": [],
   "source": []
  },
  {
   "cell_type": "code",
   "execution_count": null,
   "metadata": {
    "collapsed": true
   },
   "outputs": [],
   "source": []
  },
  {
   "cell_type": "code",
   "execution_count": null,
   "metadata": {
    "collapsed": true
   },
   "outputs": [],
   "source": []
  },
  {
   "cell_type": "code",
   "execution_count": null,
   "metadata": {
    "collapsed": true
   },
   "outputs": [],
   "source": []
  },
  {
   "cell_type": "code",
   "execution_count": null,
   "metadata": {
    "collapsed": true
   },
   "outputs": [],
   "source": []
  },
  {
   "cell_type": "code",
   "execution_count": null,
   "metadata": {
    "collapsed": true
   },
   "outputs": [],
   "source": []
  },
  {
   "cell_type": "code",
   "execution_count": null,
   "metadata": {
    "collapsed": true
   },
   "outputs": [],
   "source": []
  },
  {
   "cell_type": "code",
   "execution_count": null,
   "metadata": {
    "collapsed": true
   },
   "outputs": [],
   "source": []
  },
  {
   "cell_type": "code",
   "execution_count": null,
   "metadata": {
    "collapsed": true
   },
   "outputs": [],
   "source": []
  },
  {
   "cell_type": "code",
   "execution_count": null,
   "metadata": {
    "collapsed": true
   },
   "outputs": [],
   "source": []
  },
  {
   "cell_type": "code",
   "execution_count": 107,
   "metadata": {
    "collapsed": false
   },
   "outputs": [],
   "source": []
  },
  {
   "cell_type": "code",
   "execution_count": 153,
   "metadata": {
    "collapsed": false
   },
   "outputs": [
    {
     "name": "stdout",
     "output_type": "stream",
     "text": [
      "                 Files      1      2     3     4    4+\n",
      "0    Automated Patches  81.73   7.56  3.19  1.90  5.63\n",
      "1  Semi-manual Patches  86.28   5.49  4.25  0.69  3.29\n",
      "2       Manual Patches  75.46  11.24  6.48  2.73  4.10\n",
      "[1.025, 2.025, 3.025]\n",
      "                 Hunks      1      2      3     4     4+\n",
      "0    Automated Patches  40.79  25.80   7.93  7.26  18.22\n",
      "1  Semi-manual Patches  35.80  19.07  12.21  6.04  26.89\n",
      "2       Manual Patches  31.80  18.93  10.73  8.02  30.51\n",
      "[1.025, 2.025, 3.025]\n",
      "             PatchSize      1      2      3      4     4+\n",
      "0    Automated Patches  23.14  19.41  12.30  10.22  34.94\n",
      "1  Semi-manual Patches  22.63  15.36  11.93   6.45  43.62\n",
      "2       Manual Patches  12.73   7.76   6.23   6.34  66.93\n",
      "[1.025, 2.025, 3.025]\n"
     ]
    },
    {
     "data": {
      "text/plain": [
       "<matplotlib.figure.Figure at 0x7fdbaa20fd90>"
      ]
     },
     "metadata": {},
     "output_type": "display_data"
    },
    {
     "data": {
      "image/png": "[encoded data removed]",
      "text/plain": [
       "<matplotlib.figure.Figure at 0x7fdba92e4b50>"
      ]
     },
     "metadata": {},
     "output_type": "display_data"
    },
    {
     "data": {
      "text/plain": [
       "<matplotlib.figure.Figure at 0x7fdbab1d6190>"
      ]
     },
     "metadata": {},
     "output_type": "display_data"
    },
    {
     "data": {
      "image/png": "[encoded data removed]",
      "text/plain": [
       "<matplotlib.figure.Figure at 0x7fdbaacc19d0>"
      ]
     },
     "metadata": {},
     "output_type": "display_data"
    },
    {
     "data": {
      "text/plain": [
       "<matplotlib.figure.Figure at 0x7fdbab0f0150>"
      ]
     },
     "metadata": {},
     "output_type": "display_data"
    },
    {
     "data": {
      "image/png": "[encoded data removed]",
      "text/plain": [
       "<matplotlib.figure.Figure at 0x7fdba846f690>"
      ]
     },
     "metadata": {},
     "output_type": "display_data"
    }
   ],
   "source": []
  },
  {
   "cell_type": "code",
   "execution_count": null,
   "metadata": {
    "collapsed": true
   },
   "outputs": [],
   "source": []
  },
  {
   "cell_type": "code",
   "execution_count": null,
   "metadata": {
    "collapsed": true
   },
   "outputs": [],
   "source": []
  },
  {
   "cell_type": "code",
   "execution_count": null,
   "metadata": {
    "collapsed": true
   },
   "outputs": [],
   "source": []
  },
  {
   "cell_type": "code",
   "execution_count": 152,
   "metadata": {
    "collapsed": false
   },
   "outputs": [],
   "source": []
  },
  {
   "cell_type": "code",
   "execution_count": null,
   "metadata": {
    "collapsed": true
   },
   "outputs": [],
   "source": []
  },
  {
   "cell_type": "code",
   "execution_count": null,
   "metadata": {
    "collapsed": true
   },
   "outputs": [],
   "source": []
  },
  {
   "cell_type": "code",
   "execution_count": null,
   "metadata": {
    "collapsed": true
   },
   "outputs": [],
   "source": []
  }
 ],
 "metadata": {
  "anaconda-cloud": {},
  "kernelspec": {
   "display_name": "Python [conda root]",
   "language": "python",
   "name": "conda-root-py"
  },
  "language_info": {
   "codemirror_mode": {
    "name": "ipython",
    "version": 2
   },
   "file_extension": ".py",
   "mimetype": "text/x-python",
   "name": "python",
   "nbconvert_exporter": "python",
   "pygments_lexer": "ipython2",
   "version": "2.7.12"
  }
 },
 "nbformat": 4,
 "nbformat_minor": 1
}
