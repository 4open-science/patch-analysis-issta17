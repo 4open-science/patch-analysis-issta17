{
 "cells": [
  {
   "cell_type": "code",
   "execution_count": 1,
   "metadata": {
    "collapsed": false,
    "deletable": true,
    "editable": true
   },
   "outputs": [
    {
     "name": "stdout",
     "output_type": "stream",
     "text": [
      "Wed Mar 22 16:32:40 2017\n"
     ]
    }
   ],
   "source": [
    "import ijson\n",
    "import datetime\n",
    "import pandas as pd\n",
    "import matplotlib.pyplot as plt\n",
    "import matplotlib.dates as mdates\n",
    "import matplotlib.ticker as mticker\n",
    "import numpy as np\n",
    "import os, sys, stat, time\n",
    "import subprocess\n",
    "from ast import literal_eval\n",
    "import re\n",
    "import thread\n",
    "import threading\n",
    "\n",
    "import csv\n",
    "def saveDict2File(aDict, filename):\n",
    "    w = csv.writer(open(filename, \"w\"))\n",
    "    for key, val in aDict.items():\n",
    "        w.writerow([key, val])\n",
    "\n",
    "def readFile2Dict(filename):\n",
    "    dict = {}\n",
    "    for key, val in csv.reader(open(filename)):\n",
    "        dict[key] = eval(val)\n",
    "    return dict\n",
    "\n",
    "HOME = os.getcwd()#'/Users/anilkoyuncu/Documents/lexar/'\n",
    "if __name__ == '__main__':\n",
    "    \n",
    "    print(time.ctime(time.time()))\n",
    "    os.chdir(HOME)\n",
    "    \n",
    "    t1 = readFile2Dict('dataset/type1-mutations.csv')\n",
    "    t2 = readFile2Dict('dataset/type2-mutations.csv')\n",
    "    t3 = readFile2Dict('dataset/type3-mutations.csv')"
   ]
  },
  {
   "cell_type": "code",
   "execution_count": null,
   "metadata": {
    "collapsed": true,
    "deletable": true,
    "editable": true
   },
   "outputs": [],
   "source": []
  },
  {
   "cell_type": "code",
   "execution_count": 8,
   "metadata": {
    "collapsed": false,
    "deletable": true,
    "editable": true
   },
   "outputs": [],
   "source": [
    "def countOps(t):\n",
    "    aDict = dict()\n",
    "    for commit, op in t.items():\n",
    "\n",
    "        countSum = 0\n",
    "        for oper, count in op.items():\n",
    "            if 'NotParsedCorrectly' in oper:\n",
    "                continue\n",
    "                #print oper\n",
    "            else:\n",
    "                countSum = countSum + count\n",
    "        key = commit.split(':')[0]\n",
    "        if aDict.has_key(key):\n",
    "            tmp = aDict[key]\n",
    "            aDict[key] = tmp + countSum\n",
    "        else:\n",
    "            aDict[key] = countSum\n",
    "    return aDict\n",
    "    \n",
    "    \n",
    "\n",
    "\n",
    "\n",
    "t1counts = countOps(t1)\n",
    "t2counts = countOps(t2)\n",
    "t3counts = countOps(t3)"
   ]
  },
  {
   "cell_type": "code",
   "execution_count": null,
   "metadata": {
    "collapsed": true,
    "deletable": true,
    "editable": true
   },
   "outputs": [],
   "source": []
  },
  {
   "cell_type": "code",
   "execution_count": 9,
   "metadata": {
    "collapsed": false,
    "deletable": true,
    "editable": true
   },
   "outputs": [],
   "source": [
    "def getOperations(t):\n",
    "    aDict = dict()\n",
    "    for commit, op in t.items():\n",
    "\n",
    "        \n",
    "        key = commit.split(':')[0]\n",
    "        #print key\n",
    "        for oper, count in op.items():\n",
    "            for i in range(count):\n",
    "                #print oper\n",
    "                match = re.search('NotParsedCorrectly', oper)\n",
    "                if not match:\n",
    "                    if aDict.has_key(key):\n",
    "                        tmp = aDict[key]\n",
    "                        tmp.append(oper)\n",
    "                        aDict[key] = tmp\n",
    "                    else:\n",
    "                        opL = list()\n",
    "                        opL.append(oper)\n",
    "                        #print opL\n",
    "                        aDict[key] = opL\n",
    "                        #print aDict\n",
    "        #print aDict\n",
    "    return aDict\n",
    "\n",
    "t1Ops = getOperations(t1)\n",
    "t2Ops = getOperations(t2)\n",
    "t3Ops = getOperations(t3)\n",
    "\n",
    "def calcUniqOps(t):\n",
    "    aDict = dict()\n",
    "    for k,v in t.items():\n",
    "        if not 'NotParsedCorrectly' in v:\n",
    "            aDict[k] = list(set(v))\n",
    "    return aDict\n",
    "            \n",
    "        \n",
    "\n",
    "t1Uniq = calcUniqOps(t1Ops)\n",
    "t2Uniq = calcUniqOps(t2Ops)\n",
    "t3Uniq = calcUniqOps(t3Ops)"
   ]
  },
  {
   "cell_type": "code",
   "execution_count": null,
   "metadata": {
    "collapsed": true,
    "deletable": true,
    "editable": true
   },
   "outputs": [],
   "source": []
  },
  {
   "cell_type": "code",
   "execution_count": 10,
   "metadata": {
    "collapsed": false,
    "deletable": true,
    "editable": true
   },
   "outputs": [],
   "source": [
    "t1Counts = t1counts.values()\n",
    "t2Counts = t2counts.values()\n",
    "t3Counts = t3counts.values()"
   ]
  },
  {
   "cell_type": "code",
   "execution_count": null,
   "metadata": {
    "collapsed": true,
    "deletable": true,
    "editable": true
   },
   "outputs": [],
   "source": []
  },
  {
   "cell_type": "code",
   "execution_count": null,
   "metadata": {
    "collapsed": false,
    "deletable": true,
    "editable": true
   },
   "outputs": [],
   "source": [
    "t1Counts.sort()\n",
    "t2Counts.sort()\n",
    "t3Counts.sort()"
   ]
  },
  {
   "cell_type": "code",
   "execution_count": null,
   "metadata": {
    "collapsed": true,
    "deletable": true,
    "editable": true
   },
   "outputs": [],
   "source": []
  },
  {
   "cell_type": "code",
   "execution_count": 32,
   "metadata": {
    "collapsed": false,
    "deletable": true,
    "editable": true
   },
   "outputs": [],
   "source": [
    "def plotFigure(x,y, tip=False):\n",
    "    [x1,x2,x3] = x\n",
    "    [y1,y2,y3] = y\n",
    "    plt.figure()\n",
    "    f, axe = plt.subplots(1, figsize=(10,5))#plt.subplot(111)\n",
    "    axe.plot(x1,y1,color='b',label='Automated Patches' ,linewidth= 5)\n",
    "    plt.plot(x2,y2, color='y',label='Semi-manual Patches',linewidth= 5)\n",
    "    plt.plot(x3,y3, color='r',label='Manual Patches',linewidth= 5)\n",
    "\n",
    "\n",
    "    axe.set_xscale('log')\n",
    "\n",
    "    plt.xlabel('# Operations', fontsize=20)\n",
    "    plt.ylabel('# commits', fontsize=20)\n",
    "        #plt.title(\"Temporal dist. of commits\", fontsize=18)\n",
    "    plt.tick_params(labelsize=16)\n",
    "    plt.legend(bbox_to_anchor=(0.25, 1), loc=0, borderaxespad=0., fontsize=20)\n",
    "    plt.subplots_adjust(left=0.06,bottom=0.15,right=0.98, top=0.95 , wspace= 0.1, hspace=0)\n",
    "    plt.ion()\n",
    "    fig = plt.gcf()\n",
    "    fig.set_size_inches(20,10, forward=True)\n",
    "    plt.savefig(tip +\"OperationCommit.pdf\",dpi=100)\n",
    "    "
   ]
  },
  {
   "cell_type": "code",
   "execution_count": 11,
   "metadata": {
    "collapsed": false,
    "deletable": true,
    "editable": true
   },
   "outputs": [],
   "source": [
    "t1All = pd.DataFrame.from_dict(t1counts.items())\n",
    "\n",
    "\n",
    "\n",
    "t1All.columns = ['commit', 'operatorCount']\n",
    "\n",
    "dfT1Uniq = pd.DataFrame.from_dict(t1Uniq.items())\n",
    "\n",
    "dfT1Uniq.columns = ['commit', 'uniq']\n",
    "\n",
    "dfT1Merge = pd.merge(dfT1Uniq,t1All,on='commit')\n",
    "\n",
    "t2All = pd.DataFrame.from_dict(t2counts.items())\n",
    "\n",
    "\n",
    "\n",
    "t2All.columns = ['commit', 'operatorCount']\n",
    "\n",
    "dfT2Uniq = pd.DataFrame.from_dict(t2Uniq.items())\n",
    "\n",
    "dfT2Uniq.columns = ['commit', 'uniq']\n",
    "\n",
    "dfT2Merge = pd.merge(dfT2Uniq,t2All,on='commit')\n",
    "\n",
    "t3All = pd.DataFrame.from_dict(t3counts.items())\n",
    "\n",
    "\n",
    "\n",
    "t3All.columns = ['commit', 'operatorCount']\n",
    "\n",
    "dfT3Uniq = pd.DataFrame.from_dict(t3Uniq.items())\n",
    "\n",
    "dfT3Uniq.columns = ['commit', 'uniq']\n",
    "\n",
    "dfT3Merge = pd.merge(dfT3Uniq,t3All,on='commit')"
   ]
  },
  {
   "cell_type": "code",
   "execution_count": null,
   "metadata": {
    "collapsed": true,
    "deletable": true,
    "editable": true
   },
   "outputs": [],
   "source": []
  },
  {
   "cell_type": "code",
   "execution_count": 16,
   "metadata": {
    "collapsed": false,
    "deletable": true,
    "editable": true
   },
   "outputs": [],
   "source": [
    "df1 = df[df.type == 1.0]\n",
    "df2 = df[df.type == 2.0]\n",
    "df3 = df[df.type == 3.0]"
   ]
  },
  {
   "cell_type": "code",
   "execution_count": null,
   "metadata": {
    "collapsed": true,
    "deletable": true,
    "editable": true
   },
   "outputs": [],
   "source": []
  },
  {
   "cell_type": "code",
   "execution_count": 17,
   "metadata": {
    "collapsed": false,
    "deletable": true,
    "editable": true
   },
   "outputs": [],
   "source": [
    "def getUniqCount(x):\n",
    "    return len(x)\n",
    "\n",
    "dfT3Merge['uniqCount'] = dfT3Merge.uniq.apply(getUniqCount)\n",
    "dfT2Merge['uniqCount'] = dfT2Merge.uniq.apply(getUniqCount)\n",
    "dfT1Merge['uniqCount'] = dfT1Merge.uniq.apply(getUniqCount)\n",
    "\n",
    "#dfT3Merge[['operatorCount','uniqCount']]"
   ]
  },
  {
   "cell_type": "code",
   "execution_count": 18,
   "metadata": {
    "collapsed": false,
    "deletable": true,
    "editable": true
   },
   "outputs": [],
   "source": [
    "dfT1M = pd.merge(df1,dfT1Merge,on='commit')\n",
    "dfT2M = pd.merge(df2,dfT2Merge,on='commit')\n",
    "dfT3M = pd.merge(df3,dfT3Merge,on='commit')"
   ]
  },
  {
   "cell_type": "code",
   "execution_count": null,
   "metadata": {
    "collapsed": true,
    "deletable": true,
    "editable": true
   },
   "outputs": [],
   "source": []
  },
  {
   "cell_type": "code",
   "execution_count": 19,
   "metadata": {
    "collapsed": false,
    "deletable": true,
    "editable": true
   },
   "outputs": [],
   "source": [
    "hT1 = dfT1M[dfT1M.hunks == 1.0]\n",
    "hT2 = dfT2M[dfT2M.hunks == 1.0]\n",
    "hT3 = dfT3M[dfT3M.hunks == 1.0]"
   ]
  },
  {
   "cell_type": "code",
   "execution_count": null,
   "metadata": {
    "collapsed": true,
    "deletable": true,
    "editable": true
   },
   "outputs": [],
   "source": []
  },
  {
   "cell_type": "code",
   "execution_count": 20,
   "metadata": {
    "collapsed": true,
    "deletable": true,
    "editable": true
   },
   "outputs": [],
   "source": [
    "fT1 = dfT1M[dfT1M.fileN == 1.0]\n",
    "fT2 = dfT2M[dfT2M.fileN == 1.0]\n",
    "fT3 = dfT3M[dfT3M.fileN == 1.0]"
   ]
  },
  {
   "cell_type": "code",
   "execution_count": null,
   "metadata": {
    "collapsed": true,
    "deletable": true,
    "editable": true
   },
   "outputs": [],
   "source": []
  },
  {
   "cell_type": "code",
   "execution_count": 288,
   "metadata": {
    "collapsed": false,
    "deletable": true,
    "editable": true
   },
   "outputs": [],
   "source": [
    "exportHT1 = hT1.uniqCount.value_counts()\n",
    "exportHT2 = hT2.uniqCount.value_counts()\n",
    "exportHT3 = hT3.uniqCount.value_counts()\n",
    "\n",
    "exportHT1.to_csv('T1-hunk-uniq.csv')\n",
    "exportHT2.to_csv('T2-hunk-uniq.csv')\n",
    "exportHT3.to_csv('T3-hunk-uniq.csv')"
   ]
  },
  {
   "cell_type": "code",
   "execution_count": null,
   "metadata": {
    "collapsed": true,
    "deletable": true,
    "editable": true
   },
   "outputs": [],
   "source": []
  },
  {
   "cell_type": "code",
   "execution_count": 280,
   "metadata": {
    "collapsed": true,
    "deletable": true,
    "editable": true
   },
   "outputs": [],
   "source": [
    "exportFT1 = fT1.uniqCount.value_counts()\n",
    "exportFT2 = fT2.uniqCount.value_counts()\n",
    "exportFT3 = fT3.uniqCount.value_counts()\n",
    "\n",
    "exportFT1.to_csv('T1-file-uniq.csv')\n",
    "exportFT2.to_csv('T2-file-uniq.csv')\n",
    "exportFT3.to_csv('T3-file-uniq.csv')"
   ]
  },
  {
   "cell_type": "code",
   "execution_count": 307,
   "metadata": {
    "collapsed": false,
    "deletable": true,
    "editable": true
   },
   "outputs": [],
   "source": [
    "ft1x = hT1.operatorCount.unique().tolist() +hT2.operatorCount.unique().tolist() + hT3.operatorCount.unique().tolist()"
   ]
  },
  {
   "cell_type": "code",
   "execution_count": 28,
   "metadata": {
    "collapsed": false,
    "deletable": true,
    "editable": true
   },
   "outputs": [],
   "source": [
    "\n",
    "def plotBoxPlot(y1, y2,y3, outlier, label, fn):\n",
    "\n",
    "    y = [y1,y2,y3]\n",
    "    \n",
    "    \n",
    "    c1 = pd.DataFrame(y1,columns=['# of change operations'])\n",
    "    c1['type'] = 'H'\n",
    "    c2 = pd.DataFrame(y2,columns=['# of change operations'])\n",
    "    c2['type'] = 'DLH'\n",
    "    c3 = pd.DataFrame(y3,columns=['# of change operations'])\n",
    "    c3['type'] = 'HMG'\n",
    "\n",
    "\n",
    "    frames = [c1, c2, c3]\n",
    "\n",
    "    result = pd.concat(frames)\n",
    "\n",
    "    result.to_csv('issta_'+fn+'.csv')\n",
    "    \n",
    "    \n",
    "    fig = plt.figure()\n",
    "    #ax1 = plt.subplot2grid((1,1),(0,0))\n",
    "    ax1 = fig.add_subplot(111)\n",
    "    \n",
    "    #ax1.plot(x1,y1,'b-', color='b',label=typ)\n",
    "    if outlier == True:\n",
    "        bp =ax1.boxplot(y, 0, 'rs', 0, 2,patch_artist = True)\n",
    "        \n",
    "        for box in bp['boxes']:\n",
    "            # change outline color\n",
    "            box.set((2, 0.85),linewidth=4)\n",
    "    else:\n",
    "        bp = ax1.boxplot(y, 0, '', 0, 2, patch_artist = True)\n",
    "        for box in bp['boxes']:\n",
    "            # change outline color\n",
    "            box.set(linewidth=4)\n",
    "            print box\n",
    "            \n",
    "            ## change color and linewidth of the medians\n",
    "        for median in bp['medians']:\n",
    "            median.set(linewidth=4)\n",
    "        for whisker in bp['whiskers']:\n",
    "            whisker.set(linewidth=4)\n",
    "\n",
    "        ## change color and linewidth of the caps\n",
    "        for cap in bp['caps']:\n",
    "            cap.set(linewidth=4)\n",
    "        \n",
    "\n",
    "    \n",
    "    #ax1.grid(True)#, color='g' , linestyle ='-')\n",
    "    varLabels = ['HMG \\n Patches', 'DLH \\n Patches', 'H \\n Patches']\n",
    "    ax1.set_yticks([0,0.5,1])\n",
    "    ax1.set_yticklabels(varLabels)#, rotation=45)\n",
    "    #if outlier == True:\n",
    "    #    ax1.set_xticklabels(np.arange(-200,700,5), rotation='vertical')\n",
    "    \n",
    "    #    ax1.set_xticks(np.arange(-200,700,5))\n",
    "    #\n",
    "    #ax1.set_ylim(0,1)\n",
    "    plt.xlabel(label,fontsize=25)\n",
    "    #plt.ylabel('Types',fontsize=20)\n",
    "    #plt.title(\"Speciality of all developers\",fontsize=20)\n",
    "    plt.tick_params(labelsize=25)\n",
    "    #ax1.set_xscale('log')\n",
    "    #plt.subplots_adjust(left=0.09,bottom=0.16,right=1.95, top=0.95 , wspace= 0.2, hspace=0)\n",
    "    plt.subplots_adjust(left=0.18,bottom=0.15,right=0.98, top=0.95 , wspace= 0.1, hspace=0)\n",
    "    plt.legend(bbox_to_anchor=(1.05, 1), loc=2, borderaxespad=0.)\n",
    "    plt.ion()\n",
    "    fig = plt.gcf()\n",
    "    ax1.set_aspect(2)\n",
    "    fig.set_size_inches(8,4, forward=True)\n",
    "    plt.savefig(fn + 'Mutation.pdf',dpi=100)\n",
    "    "
   ]
  },
  {
   "cell_type": "code",
   "execution_count": null,
   "metadata": {
    "collapsed": true,
    "deletable": true,
    "editable": true
   },
   "outputs": [],
   "source": []
  },
  {
   "cell_type": "code",
   "execution_count": null,
   "metadata": {
    "collapsed": true,
    "deletable": true,
    "editable": true
   },
   "outputs": [],
   "source": []
  },
  {
   "cell_type": "code",
   "execution_count": null,
   "metadata": {
    "collapsed": true,
    "deletable": true,
    "editable": true
   },
   "outputs": [],
   "source": []
  },
  {
   "cell_type": "code",
   "execution_count": null,
   "metadata": {
    "collapsed": true,
    "deletable": true,
    "editable": true
   },
   "outputs": [],
   "source": []
  },
  {
   "cell_type": "code",
   "execution_count": 471,
   "metadata": {
    "collapsed": false,
    "deletable": true,
    "editable": true
   },
   "outputs": [
    {
     "data": {
      "text/plain": [
       "RanksumsResult(statistic=-0.080446273226457518, pvalue=0.9358823254196913)"
      ]
     },
     "execution_count": 471,
     "metadata": {},
     "output_type": "execute_result"
    }
   ],
   "source": [
    "import random\n",
    "from scipy import stats \n",
    "\n",
    "y1 = fT2.uniqCount.values\n",
    "y2 = fT3.uniqCount.values\n",
    "sampley1 = random.sample(y1, 140)\n",
    "sampley2 = random.sample(y2, 140)\n",
    "\n",
    "ranky1 =stats.stats.rankdata(sampley1)\n",
    "ranky2 =stats.stats.rankdata(sampley2)\n",
    "\n",
    "stats.ranksums(sampley1, sampley2)  \n",
    "#stats.wilcoxon(ranky1,ranky2)"
   ]
  },
  {
   "cell_type": "code",
   "execution_count": 29,
   "metadata": {
    "collapsed": false,
    "deletable": true,
    "editable": true
   },
   "outputs": [
    {
     "name": "stdout",
     "output_type": "stream",
     "text": [
      "Poly((2, 0.85) ...)\n",
      "Poly((1, 1.85) ...)\n",
      "Poly((1, 2.85) ...)\n"
     ]
    },
    {
     "data": {
      "image/png": "[encoded data removed]",
      "text/plain": [
       "<matplotlib.figure.Figure at 0x1150c84d0>"
      ]
     },
     "metadata": {},
     "output_type": "display_data"
    }
   ],
   "source": [
    "plotBoxPlot(hT1.operatorCount.values,hT2.operatorCount.values,hT3.operatorCount.values,False, '# change operations', 'hunkOps')"
   ]
  },
  {
   "cell_type": "code",
   "execution_count": 30,
   "metadata": {
    "collapsed": false,
    "deletable": true,
    "editable": true
   },
   "outputs": [
    {
     "name": "stdout",
     "output_type": "stream",
     "text": [
      "Poly((1, 0.85) ...)\n",
      "Poly((1, 1.85) ...)\n",
      "Poly((1, 2.85) ...)\n"
     ]
    },
    {
     "data": {
      "image/png": "[encoded data removed]",
      "text/plain": [
       "<matplotlib.figure.Figure at 0x114d5a750>"
      ]
     },
     "metadata": {},
     "output_type": "display_data"
    }
   ],
   "source": [
    "plotBoxPlot(hT1.uniqCount.values,hT2.uniqCount.values,hT3.uniqCount.values,False, '# distinct change operations','hunkDist')"
   ]
  },
  {
   "cell_type": "code",
   "execution_count": 31,
   "metadata": {
    "collapsed": false,
    "deletable": true,
    "editable": true
   },
   "outputs": [
    {
     "name": "stdout",
     "output_type": "stream",
     "text": [
      "Poly((3, 0.85) ...)\n",
      "Poly((2, 1.85) ...)\n",
      "Poly((2, 2.85) ...)\n"
     ]
    },
    {
     "data": {
      "image/png": "[encoded data removed]",
      "text/plain": [
       "<matplotlib.figure.Figure at 0x115276490>"
      ]
     },
     "metadata": {},
     "output_type": "display_data"
    }
   ],
   "source": [
    "plotBoxPlot(fT1.operatorCount.values,fT2.operatorCount.values,fT3.operatorCount.values,False, '# change operations', 'fileOps')"
   ]
  },
  {
   "cell_type": "code",
   "execution_count": 32,
   "metadata": {
    "collapsed": false,
    "deletable": true,
    "editable": true
   },
   "outputs": [
    {
     "name": "stdout",
     "output_type": "stream",
     "text": [
      "Poly((2, 0.85) ...)\n",
      "Poly((1, 1.85) ...)\n",
      "Poly((1, 2.85) ...)\n"
     ]
    },
    {
     "data": {
      "image/png": "[encoded data removed]",
      "text/plain": [
       "<matplotlib.figure.Figure at 0x115514150>"
      ]
     },
     "metadata": {},
     "output_type": "display_data"
    }
   ],
   "source": [
    "plotBoxPlot(fT1.uniqCount.values,fT2.uniqCount.values,fT3.uniqCount.values,False, '# distinct change operations', 'fileDist')"
   ]
  },
  {
   "cell_type": "code",
   "execution_count": null,
   "metadata": {
    "collapsed": true,
    "deletable": true,
    "editable": true
   },
   "outputs": [],
   "source": []
  },
  {
   "cell_type": "code",
   "execution_count": 281,
   "metadata": {
    "collapsed": true,
    "deletable": true,
    "editable": true
   },
   "outputs": [],
   "source": [
    "exportHT1 = hT1.operatorCount.value_counts()\n",
    "exportHT2 = hT2.operatorCount.value_counts()\n",
    "exportHT3 = hT3.operatorCount.value_counts()\n",
    "\n",
    "exportHT1.to_csv('T1-hunk-oper.csv')\n",
    "exportHT2.to_csv('T2-hunk-oper.csv')\n",
    "exportHT3.to_csv('T3-hunk-oper.csv')"
   ]
  },
  {
   "cell_type": "code",
   "execution_count": null,
   "metadata": {
    "collapsed": true,
    "deletable": true,
    "editable": true
   },
   "outputs": [],
   "source": []
  },
  {
   "cell_type": "code",
   "execution_count": 282,
   "metadata": {
    "collapsed": true,
    "deletable": true,
    "editable": true
   },
   "outputs": [],
   "source": [
    "exportFT1 = fT1.operatorCount.value_counts()\n",
    "exportFT2 = fT2.operatorCount.value_counts()\n",
    "exportFT3 = fT3.operatorCount.value_counts()\n",
    "\n",
    "exportFT1.to_csv('T1-file-oper.csv')\n",
    "exportFT2.to_csv('T2-file-oper.csv')\n",
    "exportFT3.to_csv('T3-file-oper.csv')"
   ]
  },
  {
   "cell_type": "code",
   "execution_count": null,
   "metadata": {
    "collapsed": true,
    "deletable": true,
    "editable": true
   },
   "outputs": [],
   "source": []
  },
  {
   "cell_type": "code",
   "execution_count": 106,
   "metadata": {
    "collapsed": true,
    "deletable": true,
    "editable": true
   },
   "outputs": [],
   "source": [
    "def calcTopOps(t):\n",
    "    topOpst = dict()\n",
    "    for k,v in t.items():\n",
    "        for op in v:\n",
    "            if topOpst.has_key(op):\n",
    "                tmp = topOpst[op]\n",
    "                tmp = tmp + 1\n",
    "                topOpst[op] = tmp\n",
    "            else:\n",
    "                topOpst[op] = 1\n",
    "    return topOpst"
   ]
  },
  {
   "cell_type": "code",
   "execution_count": 109,
   "metadata": {
    "collapsed": true,
    "deletable": true,
    "editable": true
   },
   "outputs": [],
   "source": [
    "topT1 = calcTopOps(t1Ops)\n",
    "topT2 = calcTopOps(t2Ops)\n",
    "topT3 = calcTopOps(t3Ops)"
   ]
  },
  {
   "cell_type": "code",
   "execution_count": 143,
   "metadata": {
    "collapsed": true,
    "deletable": true,
    "editable": true
   },
   "outputs": [],
   "source": [
    "def calculateAction(t):\n",
    "    topOpst = dict()\n",
    "    for k,v in t.items():\n",
    "        splitted = k.split(':')\n",
    "        newKey = splitted[0]\n",
    "        action = splitted[1]\n",
    "        \n",
    "        if topOpst.has_key(newKey):\n",
    "            tmpAction = topOpst[newKey]\n",
    "            if tmpAction.has_key(action):\n",
    "                tmp = tmpAction[action]\n",
    "                tmp = tmp + v\n",
    "                tmpAction[action] = tmp\n",
    "                \n",
    "            else:\n",
    "                tmpAction[action] = v\n",
    "            topOpst[newKey] = tmpAction\n",
    "                \n",
    "        else:\n",
    "            aDict = dict()\n",
    "            aDict[action] = v\n",
    "            topOpst[newKey] = aDict\n",
    "    return topOpst"
   ]
  },
  {
   "cell_type": "code",
   "execution_count": null,
   "metadata": {
    "collapsed": true,
    "deletable": true,
    "editable": true
   },
   "outputs": [],
   "source": []
  },
  {
   "cell_type": "code",
   "execution_count": null,
   "metadata": {
    "collapsed": true,
    "deletable": true,
    "editable": true
   },
   "outputs": [],
   "source": []
  },
  {
   "cell_type": "code",
   "execution_count": 150,
   "metadata": {
    "collapsed": false,
    "deletable": true,
    "editable": true
   },
   "outputs": [],
   "source": [
    "topOp1 = calculateAction(topT1)\n",
    "topOp2 = calculateAction(topT2)\n",
    "topOp3 = calculateAction(topT3)"
   ]
  },
  {
   "cell_type": "code",
   "execution_count": 151,
   "metadata": {
    "collapsed": true,
    "deletable": true,
    "editable": true
   },
   "outputs": [],
   "source": [
    "dfTO1 = pd.DataFrame.from_dict(topOp1.items())\n",
    "dfTO2 = pd.DataFrame.from_dict(topOp2.items())\n",
    "dfTO3 = pd.DataFrame.from_dict(topOp3.items())"
   ]
  },
  {
   "cell_type": "code",
   "execution_count": 153,
   "metadata": {
    "collapsed": true,
    "deletable": true,
    "editable": true
   },
   "outputs": [],
   "source": [
    "dfTO1.columns = ['operation', 'action']  \n",
    "dfTO2.columns = ['operation', 'action']    \n",
    "dfTO3.columns = ['operation', 'action']   "
   ]
  },
  {
   "cell_type": "code",
   "execution_count": 168,
   "metadata": {
    "collapsed": true,
    "deletable": true,
    "editable": true
   },
   "outputs": [],
   "source": [
    "def getCounts(x):\n",
    "    a = x.values()\n",
    "    return sum(a)\n"
   ]
  },
  {
   "cell_type": "code",
   "execution_count": 172,
   "metadata": {
    "collapsed": true,
    "deletable": true,
    "editable": true
   },
   "outputs": [],
   "source": [
    "dfTO1['count'] = dfTO1.action.apply(getCounts)\n",
    "dfTO2['count'] = dfTO2.action.apply(getCounts)\n",
    "dfTO3['count'] = dfTO3.action.apply(getCounts)"
   ]
  },
  {
   "cell_type": "code",
   "execution_count": null,
   "metadata": {
    "collapsed": true,
    "deletable": true,
    "editable": true
   },
   "outputs": [],
   "source": []
  },
  {
   "cell_type": "code",
   "execution_count": 114,
   "metadata": {
    "collapsed": true,
    "deletable": true,
    "editable": true
   },
   "outputs": [],
   "source": [
    "dfT1 = pd.DataFrame.from_dict(topT1.items())\n",
    "dfT2 = pd.DataFrame.from_dict(topT2.items())\n",
    "dfT3 = pd.DataFrame.from_dict(topT3.items())\n",
    "\n",
    "dfT1.columns = ['mutation', 'count']  \n",
    "dfT2.columns = ['mutation', 'count']  \n",
    "dfT3.columns = ['mutation', 'count']  "
   ]
  },
  {
   "cell_type": "code",
   "execution_count": null,
   "metadata": {
    "collapsed": true,
    "deletable": true,
    "editable": true
   },
   "outputs": [],
   "source": []
  },
  {
   "cell_type": "code",
   "execution_count": 7,
   "metadata": {
    "collapsed": true,
    "deletable": true,
    "editable": true
   },
   "outputs": [],
   "source": [
    "import csv\n",
    "def readFile2Dict(filename):\n",
    "    dict = {}\n",
    "    for key, val in csv.reader(open(filename)):\n",
    "        dict[key] = eval(val)\n",
    "    return dict\n",
    "\n"
   ]
  },
  {
   "cell_type": "code",
   "execution_count": 15,
   "metadata": {
    "collapsed": false,
    "deletable": true,
    "editable": true
   },
   "outputs": [],
   "source": [
    "#os.chdir('/Users/anilkoyuncu/patchstudy/scripts')\n",
    "#[hunks, patchSize,fileN]\n",
    "a= readFile2Dict('dataset/RQ2-compare-locality-a')\n",
    "b = readFile2Dict('dataset/RQ2-compare-locality-b')\n",
    "c = readFile2Dict('dataset/RQ2-compare-locality-c')\n",
    "\n",
    "\n",
    "\n",
    "\n",
    "columns = ['commit', 'operationsSum', 'hunks', 'fileN','type'] \n",
    "df = pd.DataFrame(columns=columns) \n",
    "\n",
    "\n",
    "\n",
    "\n",
    "\n",
    "ind = 0 \n",
    "for k,v in a.items():\n",
    "    if t1counts.has_key(k):\n",
    "        df.loc[ind] = [k, t1counts[k],v[0],v[2] , 1]\n",
    "        ind= ind +1\n",
    "\n",
    "\n",
    "\n",
    "\n",
    "\n",
    "for k,v in b.items():\n",
    "    if t2counts.has_key(k):\n",
    "        df.loc[ind] = [k, t2counts[k],v[0],v[2] , 2]\n",
    "        ind= ind +1\n",
    "\n",
    "\n",
    "\n",
    "\n",
    "\n",
    "for k,v in c.items():\n",
    "    if t3counts.has_key(k):\n",
    "        df.loc[ind] = [k, t3counts[k],v[0],v[2], 3 ]\n",
    "        ind= ind +1"
   ]
  },
  {
   "cell_type": "code",
   "execution_count": null,
   "metadata": {
    "collapsed": true,
    "deletable": true,
    "editable": true
   },
   "outputs": [],
   "source": []
  },
  {
   "cell_type": "code",
   "execution_count": 89,
   "metadata": {
    "collapsed": true,
    "deletable": true,
    "editable": true
   },
   "outputs": [],
   "source": [
    "df1M = pd.merge(df1,commits1,on='commit')\n",
    "df2M = pd.merge(df2,commits2,on='commit')\n",
    "df3M = pd.merge(df3,commits3,on='commit')"
   ]
  },
  {
   "cell_type": "code",
   "execution_count": null,
   "metadata": {
    "collapsed": true,
    "deletable": true,
    "editable": true
   },
   "outputs": [],
   "source": []
  },
  {
   "cell_type": "code",
   "execution_count": 90,
   "metadata": {
    "collapsed": true,
    "deletable": true,
    "editable": true
   },
   "outputs": [],
   "source": [
    "df1File = df1M[df1M.fileNo == 1.0]\n",
    "df2File = df2M[df2M.fileNo == 1.0]\n",
    "df3File = df3M[df3M.fileNo == 1.0]"
   ]
  },
  {
   "cell_type": "code",
   "execution_count": null,
   "metadata": {
    "collapsed": true,
    "deletable": true,
    "editable": true
   },
   "outputs": [],
   "source": []
  },
  {
   "cell_type": "code",
   "execution_count": 35,
   "metadata": {
    "collapsed": true,
    "deletable": true,
    "editable": true
   },
   "outputs": [],
   "source": [
    "df1Hunk = df1[df1.hunks == 1.0]\n",
    "df2Hunk = df2[df2.hunks == 1.0]\n",
    "df3Hunk = df3[df3.hunks == 1.0]"
   ]
  },
  {
   "cell_type": "code",
   "execution_count": 45,
   "metadata": {
    "collapsed": true,
    "deletable": true,
    "editable": true
   },
   "outputs": [],
   "source": [
    "def prepareAxes(v1,v2,v3 ):\n",
    "    x1 = v1.values.tolist()\n",
    "    x2 = v2.values.tolist()\n",
    "    x3 = v3.values.tolist()\n",
    "\n",
    "    x1.sort()\n",
    "    x2.sort()\n",
    "    x3.sort()\n",
    "\n",
    "    y1  = list(range(len(x1))) \n",
    "    y2  = list(range(len(x2))) \n",
    "    y3  = list(range(len(x3)))\n",
    "    x = [x1,x2,x3]\n",
    "    y = [y1,y2,y3]\n",
    "    return x,y"
   ]
  },
  {
   "cell_type": "code",
   "execution_count": 70,
   "metadata": {
    "collapsed": false,
    "deletable": true,
    "editable": true
   },
   "outputs": [],
   "source": [
    "df1Hunk.to_csv('hunkData-type1')\n",
    "df2Hunk.to_csv('hunkData-type2')\n",
    "df3Hunk.to_csv('hunkData-type3')"
   ]
  },
  {
   "cell_type": "code",
   "execution_count": null,
   "metadata": {
    "collapsed": true,
    "deletable": true,
    "editable": true
   },
   "outputs": [],
   "source": []
  },
  {
   "cell_type": "code",
   "execution_count": null,
   "metadata": {
    "collapsed": true,
    "deletable": true,
    "editable": true
   },
   "outputs": [],
   "source": []
  },
  {
   "cell_type": "code",
   "execution_count": 76,
   "metadata": {
    "collapsed": false,
    "deletable": true,
    "editable": true
   },
   "outputs": [],
   "source": [
    "fileType1= 'dataset/t1.json'\n",
    "fileType2= 'dataset/t2.json'\n",
    "fileType3= 'dataset/t3.json'\n",
    "\n",
    "def datasetReader(filename):\n",
    "    with open(filename, 'r') as f:\n",
    "        objects = ijson.items(f, 'item')\n",
    "        rows = list(objects)\n",
    "    return rows\n",
    "\n",
    "#os.chdir('/Users/anilkoyuncu/patchstudy/scripts')\n",
    "ds1 = datasetReader(fileType1)\n",
    "ds2 = datasetReader(fileType2)\n",
    "ds3 = datasetReader(fileType3)\n",
    "commits1 = pd.DataFrame.from_dict(ds1)\n",
    "commits2 = pd.DataFrame.from_dict(ds2)\n",
    "commits3 = pd.DataFrame.from_dict(ds3)"
   ]
  },
  {
   "cell_type": "code",
   "execution_count": null,
   "metadata": {
    "collapsed": true,
    "deletable": true,
    "editable": true
   },
   "outputs": [],
   "source": []
  },
  {
   "cell_type": "code",
   "execution_count": 78,
   "metadata": {
    "collapsed": false,
    "deletable": true,
    "editable": true
   },
   "outputs": [],
   "source": [
    "commits1['fileNo'] = commits1.paths.str.len()\n",
    "commits2['fileNo'] = commits2.paths.str.len()\n",
    "commits3['fileNo'] = commits3.paths.str.len()"
   ]
  },
  {
   "cell_type": "code",
   "execution_count": null,
   "metadata": {
    "collapsed": true,
    "deletable": true,
    "editable": true
   },
   "outputs": [],
   "source": []
  },
  {
   "cell_type": "code",
   "execution_count": null,
   "metadata": {
    "collapsed": false,
    "deletable": true,
    "editable": true
   },
   "outputs": [],
   "source": [
    "commits1['files']= commits1.paths.apply(findFiles)"
   ]
  },
  {
   "cell_type": "code",
   "execution_count": null,
   "metadata": {
    "collapsed": true,
    "deletable": true,
    "editable": true
   },
   "outputs": [],
   "source": [
    "commits2['files']= commits2.paths.apply(findFiles)\n",
    "commits3['files']= commits3.paths.apply(findFiles)"
   ]
  },
  {
   "cell_type": "code",
   "execution_count": null,
   "metadata": {
    "collapsed": false,
    "deletable": true,
    "editable": true
   },
   "outputs": [],
   "source": [
    "os.chdir('/Users/anilkoyuncu/linux-stable')\n",
    "test.files.apply(findFilesTypes)\n",
    "\n",
    "commits1['fileTypes']= commits1.files.apply(findFilesTypes)\n",
    "commits2['fileTypes']= commits2.files.apply(findFilesTypes)\n",
    "commits3['fileTypes']= commits3.files.apply(findFilesTypes)"
   ]
  },
  {
   "cell_type": "code",
   "execution_count": null,
   "metadata": {
    "collapsed": true,
    "deletable": true,
    "editable": true
   },
   "outputs": [],
   "source": []
  },
  {
   "cell_type": "code",
   "execution_count": null,
   "metadata": {
    "collapsed": true,
    "deletable": true,
    "editable": true
   },
   "outputs": [],
   "source": []
  },
  {
   "cell_type": "code",
   "execution_count": null,
   "metadata": {
    "collapsed": true,
    "deletable": true,
    "editable": true
   },
   "outputs": [],
   "source": [
    "dirListNew = ['arch','drivers','fs','include',\n",
    "           'kernel','net','sound']\n",
    "def findFolder(x):\n",
    "\n",
    "    folder = set()\n",
    "    for i in x:\n",
    "      \n",
    "        path = i['path']\n",
    "        rootDir = i['rootDir']\n",
    "\n",
    "        patNew = '|'.join(map(re.escape, dirListNew))\n",
    "\n",
    "            \n",
    "        regexp = re.compile(patNew)\n",
    "        if regexp.search(rootDir) is not None:\n",
    "            if re.search('drivers', rootDir):\n",
    "                if re.search('^drivers/staging', path):\n",
    "                    folder.add('staging')\n",
    "                else:\n",
    "                    folder.add(rootDir)\n",
    "            else:\n",
    "                folder.add(rootDir)\n",
    "        else:\n",
    "            folder.add('other')\n",
    "    return folder"
   ]
  },
  {
   "cell_type": "code",
   "execution_count": null,
   "metadata": {
    "collapsed": true,
    "deletable": true,
    "editable": true
   },
   "outputs": [],
   "source": []
  },
  {
   "cell_type": "code",
   "execution_count": null,
   "metadata": {
    "collapsed": true,
    "deletable": true,
    "editable": true
   },
   "outputs": [],
   "source": []
  },
  {
   "cell_type": "code",
   "execution_count": null,
   "metadata": {
    "collapsed": false,
    "deletable": true,
    "editable": true
   },
   "outputs": [],
   "source": [
    "commits1['folder'] = commits1.paths.apply(findFolder)"
   ]
  },
  {
   "cell_type": "code",
   "execution_count": null,
   "metadata": {
    "collapsed": true,
    "deletable": true,
    "editable": true
   },
   "outputs": [],
   "source": []
  },
  {
   "cell_type": "code",
   "execution_count": null,
   "metadata": {
    "collapsed": true,
    "deletable": true,
    "editable": true
   },
   "outputs": [],
   "source": []
  },
  {
   "cell_type": "code",
   "execution_count": null,
   "metadata": {
    "collapsed": true,
    "deletable": true,
    "editable": true
   },
   "outputs": [],
   "source": [
    "import collections\n",
    "\n",
    "def getCommitMutationPairs(aMutationDict):\n",
    "    dictionary = collections.defaultdict(list)\n",
    "\n",
    "    for k,v in aMutationDict.items():\n",
    "        newK = k.split(':')[0]\n",
    "        for vk,vv in v.items():\n",
    "            for x in range(vv):\n",
    "                dictionary[newK].append(vk)\n",
    "\n",
    "    aDf = pd.DataFrame.from_dict(dictionary.items())\n",
    "    aDf.columns = ['commit', 'mutation'] \n",
    "    return aDf"
   ]
  },
  {
   "cell_type": "code",
   "execution_count": null,
   "metadata": {
    "collapsed": false,
    "deletable": true,
    "editable": true
   },
   "outputs": [],
   "source": [
    "mutationT1 = getCommitMutationPairs(t1)\n",
    "mutationT2 = getCommitMutationPairs(t2)\n",
    "mutationT3 = getCommitMutationPairs(t3)"
   ]
  },
  {
   "cell_type": "code",
   "execution_count": null,
   "metadata": {
    "collapsed": true,
    "deletable": true,
    "editable": true
   },
   "outputs": [],
   "source": []
  },
  {
   "cell_type": "code",
   "execution_count": null,
   "metadata": {
    "collapsed": true,
    "deletable": true,
    "editable": true
   },
   "outputs": [],
   "source": []
  },
  {
   "cell_type": "code",
   "execution_count": null,
   "metadata": {
    "collapsed": false,
    "deletable": true,
    "editable": true
   },
   "outputs": [],
   "source": [
    "def mergeCommitMutation(aMutation, aCommit):\n",
    "    merged = pd.merge(aMutation, aCommit, on=['commit'], how='inner') \n",
    "    return merged"
   ]
  },
  {
   "cell_type": "code",
   "execution_count": null,
   "metadata": {
    "collapsed": false,
    "deletable": true,
    "editable": true
   },
   "outputs": [],
   "source": [
    "mutationCommit1 = mergeCommitMutation(mutationT1,commits1)\n",
    "mutationCommit2 = mergeCommitMutation(mutationT2,commits2)\n",
    "mutationCommit3 = mergeCommitMutation(mutationT3,commits3)"
   ]
  }
 ],
 "metadata": {
  "anaconda-cloud": {},
  "kernelspec": {
   "display_name": "Python 2",
   "language": "python",
   "name": "python2"
  },
  "language_info": {
   "codemirror_mode": {
    "name": "ipython",
    "version": 2
   },
   "file_extension": ".py",
   "mimetype": "text/x-python",
   "name": "python",
   "nbconvert_exporter": "python",
   "pygments_lexer": "ipython2",
   "version": "2.7.13"
  }
 },
 "nbformat": 4,
 "nbformat_minor": 1
}
